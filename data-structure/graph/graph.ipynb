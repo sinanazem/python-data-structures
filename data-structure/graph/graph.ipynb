{
 "cells": [
  {
   "cell_type": "code",
   "execution_count": 116,
   "metadata": {},
   "outputs": [],
   "source": [
    "class Graph:\n",
    "    def __init__(self, edge) -> None:\n",
    "        self.edge = edge\n",
    "        self.adj_dict = dict()\n",
    "        self.create_adj_dict()\n",
    "        \n",
    "    \n",
    "    def create_adj_dict(self):\n",
    "        for start, dist in self.edge:\n",
    "            if start in self.adj_dict:\n",
    "                self.adj_dict[start].append(dist)\n",
    "            else:\n",
    "                self.adj_dict[start] = [dist]\n",
    "                \n",
    "    def get_path(self, start, dist, path=[]):\n",
    "        path = path + [start]\n",
    "        if start == dist:\n",
    "            return [path]\n",
    "        \n",
    "        if start not in self.adj_dict:\n",
    "            return []\n",
    "        \n",
    "        paths = []\n",
    "        for vertex in self.adj_dict[start]:\n",
    "            if vertex not in path:\n",
    "                new_paths = self.get_path(vertex, dist, path)\n",
    "                for p in new_paths:\n",
    "                    paths.append(p)\n",
    "        return paths\n",
    "    \n",
    "    def shortest_path(self, start, dist, path=[]):\n",
    "        a = self.get_path(start, dist, path)\n",
    "        a2 = [(index, len(list_)) for index, list_ in enumerate(a)]\n",
    "        index = sorted(a2, key=lambda x: x[1])[0][0]\n",
    "     \n",
    "        return a[index]\n",
    "    \n",
    "    \n",
    "    def shortest_path_2(self, start, dist, path=[]):\n",
    "        path = path + [start]\n",
    "        if start == dist:\n",
    "            return path\n",
    "        \n",
    "        if start not in self.adj_dict:\n",
    "            return None\n",
    "        \n",
    "        short_path = None\n",
    "        \n",
    "        for vertex in self.adj_dict[start]:\n",
    "            if vertex not in path:\n",
    "                n_sp = self.shortest_path(vertex, dist, path)\n",
    "                if n_sp:\n",
    "                    if short_path is None or len(n_sp) < len(short_path):\n",
    "                        short_path = n_sp\n",
    "        return short_path"
   ]
  },
  {
   "cell_type": "code",
   "execution_count": 117,
   "metadata": {},
   "outputs": [],
   "source": [
    "\n",
    "routes = [\n",
    "    (\"Kerman\", \"Yazd\"),\n",
    "    (\"Kerman\", \"Esfahan\"),\n",
    "    (\"Esfahan\", \"Mashhad\"),\n",
    "    (\"Yazd\", \"Mashhad\"),\n",
    "    (\"Yazd\", \"Esfahan\"),\n",
    "    (\"Mashhad\", \"Tehran\"),\n",
    "]"
   ]
  },
  {
   "cell_type": "code",
   "execution_count": 118,
   "metadata": {},
   "outputs": [],
   "source": [
    "obj = Graph(routes)"
   ]
  },
  {
   "cell_type": "code",
   "execution_count": 119,
   "metadata": {},
   "outputs": [
    {
     "data": {
      "text/plain": [
       "{'Kerman': ['Yazd', 'Esfahan'],\n",
       " 'Esfahan': ['Mashhad'],\n",
       " 'Yazd': ['Mashhad', 'Esfahan'],\n",
       " 'Mashhad': ['Tehran']}"
      ]
     },
     "execution_count": 119,
     "metadata": {},
     "output_type": "execute_result"
    }
   ],
   "source": [
    "obj.adj_dict"
   ]
  },
  {
   "cell_type": "code",
   "execution_count": 120,
   "metadata": {},
   "outputs": [
    {
     "data": {
      "text/plain": [
       "[['Kerman']]"
      ]
     },
     "execution_count": 120,
     "metadata": {},
     "output_type": "execute_result"
    }
   ],
   "source": [
    "obj.get_path(\"Kerman\", \"Kerman\")"
   ]
  },
  {
   "cell_type": "code",
   "execution_count": 121,
   "metadata": {},
   "outputs": [
    {
     "data": {
      "text/plain": [
       "[]"
      ]
     },
     "execution_count": 121,
     "metadata": {},
     "output_type": "execute_result"
    }
   ],
   "source": [
    "obj.get_path(\"Shiraz\", \"Kerman\")"
   ]
  },
  {
   "cell_type": "code",
   "execution_count": 123,
   "metadata": {},
   "outputs": [
    {
     "data": {
      "text/plain": [
       "[['Kerman', 'Yazd', 'Mashhad', 'Tehran'],\n",
       " ['Kerman', 'Yazd', 'Esfahan', 'Mashhad', 'Tehran'],\n",
       " ['Kerman', 'Esfahan', 'Mashhad', 'Tehran']]"
      ]
     },
     "execution_count": 123,
     "metadata": {},
     "output_type": "execute_result"
    }
   ],
   "source": [
    "\n",
    "obj.get_path(\"Kerman\", \"Tehran\")"
   ]
  },
  {
   "cell_type": "code",
   "execution_count": 124,
   "metadata": {},
   "outputs": [
    {
     "name": "stdout",
     "output_type": "stream",
     "text": [
      "4 µs ± 52.7 ns per loop (mean ± std. dev. of 7 runs, 100,000 loops each)\n"
     ]
    }
   ],
   "source": [
    "%%timeit\n",
    "obj.shortest_path(\"Kerman\", \"Tehran\")"
   ]
  },
  {
   "cell_type": "code",
   "execution_count": 125,
   "metadata": {},
   "outputs": [
    {
     "name": "stdout",
     "output_type": "stream",
     "text": [
      "4.42 µs ± 55 ns per loop (mean ± std. dev. of 7 runs, 100,000 loops each)\n"
     ]
    }
   ],
   "source": [
    "%%timeit\n",
    "obj.shortest_path_2(\"Kerman\", \"Tehran\")"
   ]
  },
  {
   "cell_type": "code",
   "execution_count": null,
   "metadata": {},
   "outputs": [],
   "source": []
  },
  {
   "cell_type": "code",
   "execution_count": null,
   "metadata": {},
   "outputs": [],
   "source": []
  }
 ],
 "metadata": {
  "kernelspec": {
   "display_name": "ml_env",
   "language": "python",
   "name": "python3"
  },
  "language_info": {
   "codemirror_mode": {
    "name": "ipython",
    "version": 3
   },
   "file_extension": ".py",
   "mimetype": "text/x-python",
   "name": "python",
   "nbconvert_exporter": "python",
   "pygments_lexer": "ipython3",
   "version": "3.9.18"
  }
 },
 "nbformat": 4,
 "nbformat_minor": 2
}
