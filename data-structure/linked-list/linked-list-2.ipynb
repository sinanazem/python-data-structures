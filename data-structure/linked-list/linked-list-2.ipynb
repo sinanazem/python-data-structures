{
 "cells": [
  {
   "cell_type": "code",
   "execution_count": 50,
   "metadata": {},
   "outputs": [],
   "source": [
    "\n",
    "class Node:\n",
    "    \n",
    "    def __init__(self, data):\n",
    "        self.data = data\n",
    "        self.next = None\n",
    "\n",
    "\n",
    "class LinkedList:\n",
    "    def __init__(self):\n",
    "        self.head = None\n",
    "        self.length = 0\n",
    "    \n",
    "    def setattr(self, list_):\n",
    "        for i in list_[::-1]:\n",
    "            self.push(i)\n",
    "    \n",
    "    \n",
    "    def push(self, data):\n",
    "        new_node = Node(data)\n",
    "        new_node.next = self.head\n",
    "        self.head = new_node\n",
    "        self.length += 1\n",
    "        \n",
    "    def append(self, data):\n",
    "        new_node = Node(data)\n",
    "        temp = self.head\n",
    "        while temp.next:\n",
    "            temp = temp.next\n",
    "            \n",
    "        else:\n",
    "            temp.next = new_node\n",
    "        self.length += 1\n",
    "    \n",
    "    def insert(self, index, data):\n",
    "        \n",
    "        if index > self.length -1:\n",
    "            self.append(data)\n",
    "        elif index < 0:\n",
    "            self.push(data)\n",
    "        else:\n",
    "            pre = temp = self.head\n",
    "            while index:\n",
    "                pre = temp\n",
    "                temp = temp.next\n",
    "                index -= 1\n",
    "            else:\n",
    "                new_node = Node(data)\n",
    "                new_node.next = temp\n",
    "                pre.next = new_node\n",
    "                self.length += 1\n",
    "                \n",
    "    def pop(self, index=-1):\n",
    "        \n",
    "        if index == -1:\n",
    "            temp = self.head\n",
    "            while temp.next.next:\n",
    "                temp = temp.next\n",
    "            data = temp.next.data\n",
    "            temp.next = None\n",
    "            self.length -= 1\n",
    "            return data\n",
    "        \n",
    "        elif index == 0:\n",
    "            data = self.head.data\n",
    "            self.head = self.head.next\n",
    "            self.length -= 1\n",
    "            return data\n",
    "        \n",
    "        else:\n",
    "            temp = self.head\n",
    "            \n",
    "            while index - 1 :\n",
    "                temp = temp.next\n",
    "                index = index-1\n",
    "            data = temp.next.data\n",
    "            temp.next = temp.next.next\n",
    "            self.length -= 1\n",
    "            return data\n",
    "        \n",
    "                \n",
    "    \n",
    "    def isempty(self):\n",
    "        if self.length == 0:\n",
    "            return True\n",
    "        else:\n",
    "            return False\n",
    "    \n",
    "    def __repr__(self):\n",
    "        \n",
    "        srt_ = \" \"\n",
    "        temp = self.head\n",
    "        while temp.next:\n",
    "            srt_ += f\"{str(temp.data)} --> \"\n",
    "            temp = temp.next\n",
    "            \n",
    "        else:\n",
    "            srt_ += str(temp.data)\n",
    "        return srt_\n",
    "    \n",
    "    def __len__(self):\n",
    "        return self.length"
   ]
  },
  {
   "cell_type": "code",
   "execution_count": 51,
   "metadata": {},
   "outputs": [],
   "source": [
    "ll = LinkedList()\n",
    "\n",
    "ll.push(23)\n",
    "ll.push(33)\n",
    "ll.push(43)"
   ]
  },
  {
   "cell_type": "code",
   "execution_count": 52,
   "metadata": {},
   "outputs": [
    {
     "data": {
      "text/plain": [
       " 43 --> 33 --> 23"
      ]
     },
     "execution_count": 52,
     "metadata": {},
     "output_type": "execute_result"
    }
   ],
   "source": [
    "ll"
   ]
  },
  {
   "cell_type": "code",
   "execution_count": 53,
   "metadata": {},
   "outputs": [
    {
     "data": {
      "text/plain": [
       "33"
      ]
     },
     "execution_count": 53,
     "metadata": {},
     "output_type": "execute_result"
    }
   ],
   "source": [
    "ll.pop(1)"
   ]
  },
  {
   "cell_type": "code",
   "execution_count": 56,
   "metadata": {},
   "outputs": [
    {
     "data": {
      "text/plain": [
       " 10 --> 20 --> 3 --> 15 --> 1000 --> 60 --> 16 --> 43 --> 23"
      ]
     },
     "execution_count": 56,
     "metadata": {},
     "output_type": "execute_result"
    }
   ],
   "source": [
    "ll"
   ]
  },
  {
   "cell_type": "code",
   "execution_count": 55,
   "metadata": {},
   "outputs": [],
   "source": [
    "ll.setattr([10,20,3,15,1000,60, 16])"
   ]
  },
  {
   "cell_type": "code",
   "execution_count": 49,
   "metadata": {},
   "outputs": [],
   "source": [
    "ll.append(255)"
   ]
  },
  {
   "cell_type": "code",
   "execution_count": 38,
   "metadata": {},
   "outputs": [
    {
     "data": {
      "text/plain": [
       " 43 --> 33 --> 23 --> 255"
      ]
     },
     "execution_count": 38,
     "metadata": {},
     "output_type": "execute_result"
    }
   ],
   "source": [
    "ll"
   ]
  },
  {
   "cell_type": "code",
   "execution_count": 39,
   "metadata": {},
   "outputs": [
    {
     "data": {
      "text/plain": [
       "4"
      ]
     },
     "execution_count": 39,
     "metadata": {},
     "output_type": "execute_result"
    }
   ],
   "source": [
    "len(ll)"
   ]
  },
  {
   "cell_type": "code",
   "execution_count": 40,
   "metadata": {},
   "outputs": [],
   "source": [
    "ll.insert(2, 100)"
   ]
  },
  {
   "cell_type": "code",
   "execution_count": 41,
   "metadata": {},
   "outputs": [
    {
     "data": {
      "text/plain": [
       " 43 --> 33 --> 100 --> 23 --> 255"
      ]
     },
     "execution_count": 41,
     "metadata": {},
     "output_type": "execute_result"
    }
   ],
   "source": [
    "ll"
   ]
  },
  {
   "cell_type": "code",
   "execution_count": 5,
   "metadata": {},
   "outputs": [
    {
     "name": "stdout",
     "output_type": "stream",
     "text": [
      "43\n",
      "33\n",
      "23\n"
     ]
    }
   ],
   "source": [
    "print(ll.head.data)\n",
    "print(ll.head.next.data)\n",
    "print(ll.head.next.next.data)"
   ]
  },
  {
   "cell_type": "code",
   "execution_count": null,
   "metadata": {},
   "outputs": [],
   "source": []
  }
 ],
 "metadata": {
  "kernelspec": {
   "display_name": "ml_env",
   "language": "python",
   "name": "python3"
  },
  "language_info": {
   "codemirror_mode": {
    "name": "ipython",
    "version": 3
   },
   "file_extension": ".py",
   "mimetype": "text/x-python",
   "name": "python",
   "nbconvert_exporter": "python",
   "pygments_lexer": "ipython3",
   "version": "3.9.18"
  }
 },
 "nbformat": 4,
 "nbformat_minor": 2
}
