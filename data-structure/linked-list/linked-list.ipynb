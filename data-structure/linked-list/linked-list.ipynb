{
 "cells": [
  {
   "cell_type": "markdown",
   "metadata": {},
   "source": [
    "# Linked List"
   ]
  },
  {
   "cell_type": "code",
   "execution_count": 23,
   "metadata": {},
   "outputs": [
    {
     "name": "stdout",
     "output_type": "stream",
     "text": [
      "********************Just node connect to eachother ********************\n",
      "4\n",
      "6\n",
      "8\n",
      "********************Linked List ********************\n",
      "4\n",
      "6\n",
      "8\n"
     ]
    }
   ],
   "source": [
    "class Node:\n",
    "    def __init__(self, data):\n",
    "        self.data = data\n",
    "        self.next = None\n",
    "\n",
    " \n",
    "class LinkedList:\n",
    "    def __init__(self):\n",
    "        self.head = None\n",
    "        \n",
    "        \n",
    "node_first = Node(4)\n",
    "node_second = Node(6)\n",
    "node_third = Node(8)\n",
    "\n",
    "node_first.next = node_second\n",
    "node_second.next = node_third\n",
    "print(\"*\" *20 + \"Just node connect to eachother \" + \"*\" *20)\n",
    "print(node_first.data)\n",
    "print(node_first.next.data)\n",
    "print(node_first.next.next.data)\n",
    "\n",
    "\n",
    "\n",
    "ll = LinkedList()\n",
    "ll.head = node_first\n",
    "\n",
    "print(\"*\" *20 + \"Linked List \" + \"*\" *20)\n",
    "print(ll.head.data)\n",
    "print(ll.head.next.data)\n",
    "print(ll.head.next.next.data)"
   ]
  },
  {
   "cell_type": "code",
   "execution_count": 5,
   "metadata": {},
   "outputs": [
    {
     "name": "stdout",
     "output_type": "stream",
     "text": [
      "0\n",
      "True\n",
      "3 -> 256 -> 2 -> 1 -> 10\n",
      "5\n",
      "False\n"
     ]
    }
   ],
   "source": [
    "class Node:\n",
    "    def __init__(self, data):\n",
    "        self.data = data\n",
    "        self.next = None\n",
    "        \n",
    "\n",
    " \n",
    "class LinkedList:\n",
    "    def __init__(self):\n",
    "        self.head = None\n",
    "        self.length = 0\n",
    "        \n",
    "        \n",
    "    def push(self, data):\n",
    "        new_node = Node(data)\n",
    "        new_node.next = self.head\n",
    "        self.head = new_node\n",
    "        self.length += 1\n",
    "        \n",
    "        \n",
    "    def append(self, data):\n",
    "        new_node = Node(data)\n",
    "        temp = self.head\n",
    "        while temp.next:\n",
    "            temp = temp.next\n",
    "            \n",
    "        else:\n",
    "            temp.next = new_node\n",
    "        self.length += 1\n",
    "        \n",
    "        \n",
    "    def insert(self, index, data):\n",
    "        if index > self.length - 1:\n",
    "            self.append(data)\n",
    "        elif index < 0:\n",
    "            self.push(data)\n",
    "        else:\n",
    "            pre = temp = self.head\n",
    "            while index:\n",
    "                pre = temp\n",
    "                temp = temp.next\n",
    "                index -= 1\n",
    "            else:\n",
    "                new_node = Node(data)\n",
    "                new_node.next = temp\n",
    "                pre.next = new_node\n",
    "                self.length += 1\n",
    "                \n",
    "\n",
    "            \n",
    "        \n",
    "        \n",
    "        \n",
    "            \n",
    "    def __len__(self):\n",
    "        return self.length\n",
    "    \n",
    "    def is_empty(self):\n",
    "        return self.length == 0\n",
    "        \n",
    "        \n",
    "    def __repr__(self):\n",
    "        temp = self.head\n",
    "        str_ = ''\n",
    "        while temp.next:\n",
    "            str_ += f\"{str(temp.data)} -> \"\n",
    "            temp = temp.next\n",
    "            \n",
    "        else:\n",
    "            str_ += f\"{str(temp.data)}\"\n",
    "        \n",
    "        return str_\n",
    "        \n",
    "\n",
    "\n",
    "\n",
    "ll = LinkedList()\n",
    "print(len(ll))\n",
    "print(ll.is_empty())\n",
    "\n",
    "ll.push(1)\n",
    "ll.push(2)\n",
    "ll.push(3)\n",
    "ll.append(10)\n",
    "\n",
    "ll.insert(1, 256)\n",
    "\n",
    "print(ll)\n",
    "print(len(ll))\n",
    "print(ll.is_empty())"
   ]
  },
  {
   "cell_type": "markdown",
   "metadata": {},
   "source": []
  },
  {
   "cell_type": "code",
   "execution_count": null,
   "metadata": {},
   "outputs": [],
   "source": []
  },
  {
   "cell_type": "code",
   "execution_count": 1,
   "metadata": {},
   "outputs": [],
   "source": [
    "a = [1, 2, 3]\n"
   ]
  },
  {
   "cell_type": "code",
   "execution_count": 2,
   "metadata": {},
   "outputs": [],
   "source": [
    "a.insert(-6, 30)"
   ]
  },
  {
   "cell_type": "code",
   "execution_count": 3,
   "metadata": {},
   "outputs": [
    {
     "data": {
      "text/plain": [
       "[30, 1, 2, 3]"
      ]
     },
     "execution_count": 3,
     "metadata": {},
     "output_type": "execute_result"
    }
   ],
   "source": [
    "a"
   ]
  },
  {
   "cell_type": "code",
   "execution_count": null,
   "metadata": {},
   "outputs": [],
   "source": []
  }
 ],
 "metadata": {
  "kernelspec": {
   "display_name": "ml_env",
   "language": "python",
   "name": "python3"
  },
  "language_info": {
   "codemirror_mode": {
    "name": "ipython",
    "version": 3
   },
   "file_extension": ".py",
   "mimetype": "text/x-python",
   "name": "python",
   "nbconvert_exporter": "python",
   "pygments_lexer": "ipython3",
   "version": "3.9.18"
  }
 },
 "nbformat": 4,
 "nbformat_minor": 2
}
