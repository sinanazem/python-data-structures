{
 "cells": [
  {
   "cell_type": "markdown",
   "metadata": {},
   "source": [
    "## Insertion Sort"
   ]
  },
  {
   "cell_type": "code",
   "execution_count": 14,
   "metadata": {},
   "outputs": [
    {
     "name": "stdout",
     "output_type": "stream",
     "text": [
      "[2, 3, 4, 7]\n"
     ]
    }
   ],
   "source": [
    "list_ = [4, 3, 2, 7]\n",
    "lst_ = []\n",
    "\n",
    "for i in list_:\n",
    "    for j in range(len(lst_)):\n",
    "        if i < lst_[j]:\n",
    "            lst_.insert(j, i)\n",
    "            break\n",
    "    else:\n",
    "        lst_.append(i)\n",
    "\n",
    "print(lst_)"
   ]
  },
  {
   "cell_type": "code",
   "execution_count": null,
   "metadata": {},
   "outputs": [],
   "source": []
  },
  {
   "cell_type": "code",
   "execution_count": null,
   "metadata": {},
   "outputs": [],
   "source": []
  },
  {
   "cell_type": "markdown",
   "metadata": {},
   "source": [
    "## Merge Sort"
   ]
  },
  {
   "cell_type": "markdown",
   "metadata": {},
   "source": [
    "#### Merge Algorithms"
   ]
  },
  {
   "cell_type": "code",
   "execution_count": 11,
   "metadata": {},
   "outputs": [],
   "source": [
    "def merge(list_1, list_2):\n",
    "\n",
    "    list_3 = []\n",
    "\n",
    "    i = j = 0\n",
    "\n",
    "    len1 = len(list_1)\n",
    "    len2 = len(list_2)\n",
    "\n",
    "    while i < len1 and j < len2:\n",
    "\n",
    "      if list_1[i] < list_2[j]:\n",
    "        list_3.append(list_1[i])\n",
    "        i += 1\n",
    "\n",
    "      else:\n",
    "        list_3.append(list_2[j])\n",
    "        j += 1\n",
    "\n",
    "    list_3 += list_1[i:]\n",
    "    list_3 += list_2[j:]\n",
    "\n",
    "\n",
    "    return list_3"
   ]
  },
  {
   "cell_type": "code",
   "execution_count": 12,
   "metadata": {},
   "outputs": [
    {
     "data": {
      "text/plain": [
       "[0, 2, 4, 4, 5, 6, 6, 7, 8, 10, 13]"
      ]
     },
     "execution_count": 12,
     "metadata": {},
     "output_type": "execute_result"
    }
   ],
   "source": [
    "list_1 = [0, 2, 4, 5, 6]\n",
    "list_2 = [4, 6, 7, 8, 10, 13]\n",
    "merge(list_1, list_2)"
   ]
  },
  {
   "cell_type": "markdown",
   "metadata": {},
   "source": [
    "#### Merge Sort Algorithms"
   ]
  },
  {
   "cell_type": "code",
   "execution_count": 13,
   "metadata": {},
   "outputs": [],
   "source": [
    "def merge_sort(list_):\n",
    "  if len(list_) == 1:\n",
    "    return list_\n",
    "  else:\n",
    "      pass"
   ]
  },
  {
   "cell_type": "code",
   "execution_count": null,
   "metadata": {},
   "outputs": [],
   "source": []
  },
  {
   "cell_type": "code",
   "execution_count": null,
   "metadata": {},
   "outputs": [],
   "source": []
  },
  {
   "cell_type": "markdown",
   "metadata": {},
   "source": [
    "## Quick Sort"
   ]
  },
  {
   "cell_type": "code",
   "execution_count": 1,
   "metadata": {},
   "outputs": [],
   "source": [
    "sample_list = [3, 4, 5, 6, 9, 1]"
   ]
  },
  {
   "cell_type": "code",
   "execution_count": 23,
   "metadata": {},
   "outputs": [],
   "source": [
    "def quick_sort(_list, low, high):\n",
    "\n",
    "  pivot = low\n",
    "  i = low\n",
    "  j = high\n",
    "  while i < j:\n",
    "    while _list[i] <= _list[pivot] and i < high:\n",
    "      i+= 1\n",
    "\n",
    "    while _list[j] > _list[pivot]:\n",
    "      j-= 1\n",
    "\n",
    "    if i < j:\n",
    "      _list[i], _list[j] = _list[j], _list[i]\n",
    "\n",
    "    _list[j], _list[pivot] = _list[pivot], _list[j]\n",
    "\n",
    "    quick_sort(_list, low, j-1)\n",
    "    quick_sort(_list, j+1, high)\n",
    "\n",
    "  return _list\n"
   ]
  },
  {
   "cell_type": "code",
   "execution_count": 24,
   "metadata": {},
   "outputs": [
    {
     "data": {
      "text/plain": [
       "[1, 3, 4, 5, 6, 9]"
      ]
     },
     "execution_count": 24,
     "metadata": {},
     "output_type": "execute_result"
    }
   ],
   "source": [
    "quick_sort(sample_list, 0 , len(sample_list)-1)"
   ]
  },
  {
   "cell_type": "code",
   "execution_count": null,
   "metadata": {},
   "outputs": [],
   "source": []
  }
 ],
 "metadata": {
  "kernelspec": {
   "display_name": "ml_env",
   "language": "python",
   "name": "python3"
  },
  "language_info": {
   "codemirror_mode": {
    "name": "ipython",
    "version": 3
   },
   "file_extension": ".py",
   "mimetype": "text/x-python",
   "name": "python",
   "nbconvert_exporter": "python",
   "pygments_lexer": "ipython3",
   "version": "3.9.18"
  }
 },
 "nbformat": 4,
 "nbformat_minor": 2
}
